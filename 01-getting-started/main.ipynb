{
 "cells": [
  {
   "cell_type": "code",
   "execution_count": null,
   "id": "a58ab478-9425-4156-8d80-b0f5d963f293",
   "metadata": {},
   "outputs": [],
   "source": [
    "from pydrake.all import (\n",
    "    AddMultibodyPlantSceneGraph,\n",
    "    DiagramBuilder,\n",
    "    MeshcatVisualizer,\n",
    "    Parser,\n",
    "    Simulator,\n",
    "    StartMeshcat,\n",
    "    MultibodyPlant,\n",
    "    InverseDynamicsController,\n",
    "    Diagram,\n",
    "    LeafSystem,\n",
    "    Integrator,\n",
    "    JacobianWrtVariable\n",
    ")\n",
    "import numpy as np\n",
    "from manipulation.utils import RenderDiagram"
   ]
  },
  {
   "cell_type": "code",
   "execution_count": null,
   "id": "b2bf339d-b5d0-4b69-a58b-8beb4c479ef3",
   "metadata": {},
   "outputs": [],
   "source": [
    "meshcat = StartMeshcat()\n",
    "running_as_notebook = True\n"
   ]
  },
  {
   "cell_type": "code",
   "execution_count": null,
   "id": "0bf56f19-90ef-479d-958e-fad347a53734",
   "metadata": {},
   "outputs": [],
   "source": [
    "plant = MultibodyPlant(time_step=1e-2)\n",
    "# Note that we parse into both the plant and the scene_graph here.\n",
    "Parser(plant).AddModelsFromUrl(\n",
    "        \"file:///Users/raghav/Documents/projects/robot_arm/low_cost_robot/drake_setup/low-cost-arm.urdf\"\n",
    ")\n",
    "plant.WeldFrames(plant.world_frame(), plant.GetFrameByName(\"base_link\"))\n",
    "plant.Finalize()"
   ]
  },
  {
   "cell_type": "code",
   "execution_count": null,
   "id": "a39a90a1-8cba-4a18-83df-9bc04e3c7a53",
   "metadata": {},
   "outputs": [],
   "source": [
    "context = plant.CreateDefaultContext()\n",
    "print(context)"
   ]
  },
  {
   "cell_type": "code",
   "execution_count": null,
   "id": "7ce1104b-57d5-497b-a87a-b0f95702fcbe",
   "metadata": {},
   "outputs": [],
   "source": [
    "plant.SetPositions(context, [1,1,1,1,1, 1])\n",
    "plant.GetJointByName(\"revolute_2\").set_angle(context, 2)\n",
    "print(context)"
   ]
  },
  {
   "cell_type": "code",
   "execution_count": null,
   "id": "c4523203-f254-4503-8a3b-8874b633c64f",
   "metadata": {},
   "outputs": [],
   "source": [
    "# plant.get_actuation_input_port().FixValue(context, np.zeros(5))\n",
    "input_port = plant.get_geometry_query_input_port()"
   ]
  },
  {
   "cell_type": "code",
   "execution_count": null,
   "id": "c69894f0-c9b1-4c7c-9382-29529edb681b",
   "metadata": {},
   "outputs": [],
   "source": [
    "simulator = Simulator(plant, context)\n",
    "simulator.AdvanceTo(5.0)\n",
    "print(context)"
   ]
  },
  {
   "cell_type": "code",
   "execution_count": null,
   "id": "14d50133-b288-40c8-8acf-ccf39daa5b20",
   "metadata": {},
   "outputs": [],
   "source": [
    "meshcat.Delete()\n",
    "meshcat.DeleteAddedControls()\n",
    "builder = DiagramBuilder()\n",
    "\n",
    "# Adds both MultibodyPlant and the SceneGraph, and wires them together.\n",
    "plant, scene_graph = AddMultibodyPlantSceneGraph(builder, time_step=1e-4)\n",
    "# Note that we parse into both the plant and the scene_graph here.\n",
    "Parser(plant, scene_graph).AddModelsFromUrl(\n",
    "     \"file:///Users/raghav/Documents/projects/robot_arm/low_cost_robot/drake_setup/low-cost-arm.urdf\"\n",
    ")\n",
    "plant.WeldFrames(plant.world_frame(), plant.GetFrameByName(\"base_link\"))\n",
    "plant.Finalize()\n",
    "\n",
    "# Adds the MeshcatVisualizer and wires it to the SceneGraph.\n",
    "visualizer = MeshcatVisualizer.AddToBuilder(builder, scene_graph, meshcat)\n",
    "\n",
    "diagram = builder.Build()\n",
    "diagram.set_name(\"plant and scene_graph\")\n"
   ]
  },
  {
   "cell_type": "code",
   "execution_count": null,
   "id": "3aaf45cb-324d-423a-909d-9318773c6665",
   "metadata": {},
   "outputs": [],
   "source": [
    "context = diagram.CreateDefaultContext()\n",
    "diagram.ForcedPublish(context)"
   ]
  },
  {
   "cell_type": "code",
   "execution_count": null,
   "id": "6b3bbeec-e5f4-4cd5-a1d5-73e324a3527d",
   "metadata": {},
   "outputs": [],
   "source": [
    "RenderDiagram(diagram)"
   ]
  },
  {
   "cell_type": "code",
   "execution_count": null,
   "id": "c29b7174-1276-4b90-b04b-7111cefbf9a2",
   "metadata": {},
   "outputs": [],
   "source": [
    "plant_context = plant.GetMyMutableContextFromRoot(context)\n",
    "plant.GetPositions(plant_context)"
   ]
  },
  {
   "cell_type": "code",
   "execution_count": null,
   "id": "8eef22a9-f59f-4e32-a2ef-812c92f4552c",
   "metadata": {},
   "outputs": [],
   "source": [
    "plant_context = plant.GetMyMutableContextFromRoot(context)\n",
    "plant.SetPositions(plant_context, [0.5, 0, 0, 0, -1])\n",
    "# plant.get_actuation_input_port().FixValue(plant_context, np.zeros(5)) # is this line doing anything for low cost robot?\n",
    "# print(context)\n",
    "print(plant.GetPositions(plant_context))\n",
    "\n",
    "# re-render\n",
    "context = diagram.CreateDefaultContext()\n",
    "diagram.ForcedPublish(context)\n",
    "# RenderDiagram(diagram)"
   ]
  },
  {
   "cell_type": "code",
   "execution_count": null,
   "id": "616640d4-0e23-4d4b-afb8-5d9fea3ef0d7",
   "metadata": {},
   "outputs": [],
   "source": [
    "simulator = Simulator(diagram, context)\n",
    "simulator.set_target_realtime_rate(1.0)\n",
    "simulator.AdvanceTo(5.0 if running_as_notebook else 0.1)"
   ]
  },
  {
   "cell_type": "code",
   "execution_count": null,
   "id": "b38b1683-ef6a-4c85-b339-d2b1ba23bbfb",
   "metadata": {},
   "outputs": [],
   "source": [
    "def animation_demo():\n",
    "    builder = DiagramBuilder()\n",
    "\n",
    "    # Adds both MultibodyPlant and the SceneGraph, and wires them together.\n",
    "    plant, scene_graph = AddMultibodyPlantSceneGraph(builder, time_step=1e-4)\n",
    "    # Note that we parse into both the plant and the scene_graph here.\n",
    "    Parser(plant, scene_graph).AddModelsFromUrl(\n",
    "            \"file:///Users/raghav/Documents/projects/robot_arm/low_cost_robot/drake_setup/low-cost-arm.urdf\"\n",
    "    )\n",
    "    plant.WeldFrames(plant.world_frame(), plant.GetFrameByName(\"base_link\"))\n",
    "    plant.Finalize()\n",
    "\n",
    "    # Adds the MeshcatVisualizer and wires it to the SceneGraph.\n",
    "    MeshcatVisualizer.AddToBuilder(builder, scene_graph, meshcat)\n",
    "\n",
    "    diagram = builder.Build()\n",
    "    context = diagram.CreateDefaultContext()\n",
    "    plant_context = plant.GetMyMutableContextFromRoot(context)\n",
    "    print(\"Positions\", plant.GetPositions(plant_context))\n",
    "    plant.SetPositions(plant_context, [0, 0, 0, 0, 0])\n",
    "    plant.get_actuation_input_port().FixValue(plant_context, np.zeros(5))\n",
    "\n",
    "    simulator = Simulator(diagram, context)\n",
    "    simulator.set_target_realtime_rate(1.0)\n",
    "\n",
    "    # Record things if needed\n",
    "    # meshcat.StartRecording()\n",
    "    simulator.AdvanceTo(5.0 if running_as_notebook else 0.1)\n",
    "    # meshcat.StopRecording()\n",
    "    # meshcat.PublishRecording()\n",
    "\n",
    "\n",
    "animation_demo()\n"
   ]
  },
  {
   "cell_type": "markdown",
   "id": "1846de2a-5324-4cc3-b2ef-5aca07f486c4",
   "metadata": {},
   "source": [
    "## Animation with Robot Sample Driver"
   ]
  },
  {
   "cell_type": "code",
   "execution_count": null,
   "id": "1d126878-949a-4ea3-925d-f9bf088680dd",
   "metadata": {},
   "outputs": [],
   "source": [
    "# Control\n",
    "builder = DiagramBuilder()\n",
    "meshcat.DeleteRecording()\n",
    "\n",
    "# Adds both MultibodyPlant and the SceneGraph, and wires them together.\n",
    "plant, scene_graph = AddMultibodyPlantSceneGraph(builder, time_step=1e-4)\n",
    "# Note that we parse into both the plant and the scene_graph here.\n",
    "robot_model = Parser(plant, scene_graph).AddModelsFromUrl(\n",
    "        \"file:///Users/raghav/Documents/projects/robot_arm/low_cost_robot/drake_setup/low-cost-arm.urdf\"\n",
    ")[0]\n",
    "plant.WeldFrames(plant.world_frame(), plant.GetFrameByName(\"base_link\"))\n",
    "plant.Finalize()\n",
    "\n",
    "# Adds the MeshcatVisualizer and wires it to the SceneGraph.\n",
    "visualizer = MeshcatVisualizer.AddToBuilder(builder, scene_graph, meshcat)\n",
    "kp = [100] * plant.num_positions()\n",
    "ki = [1] * plant.num_positions()\n",
    "kd = [20] * plant.num_positions()\n",
    "static_controller = builder.AddSystem(InverseDynamicsController(plant, kp, ki, kd, False))\n",
    "static_controller.set_name(\"static_controller\")\n",
    "builder.Connect(\n",
    "    plant.get_state_output_port(robot_model),\n",
    "    static_controller.get_input_port_estimated_state(),\n",
    ")\n",
    "builder.Connect(\n",
    "    static_controller.get_output_port_control(), plant.get_actuation_input_port()\n",
    ")\n",
    "diagram = builder.Build()\n",
    "diagram.set_name(\"with iiwa controller\")"
   ]
  },
  {
   "cell_type": "code",
   "execution_count": null,
   "id": "7294e78d-c1c6-45da-8b7a-edc37ca84aa0",
   "metadata": {},
   "outputs": [],
   "source": [
    "RenderDiagram(diagram, max_depth=1)"
   ]
  },
  {
   "cell_type": "code",
   "execution_count": null,
   "id": "c29dc109-e712-4898-8eea-501a5a29b0d2",
   "metadata": {
    "scrolled": true
   },
   "outputs": [],
   "source": [
    "context = diagram.CreateDefaultContext()\n",
    "plant_context = plant.GetMyMutableContextFromRoot(context)\n",
    "q0 = np.array([-1.57, 0.1, 0, -1.2, 0])\n",
    "x0 = np.hstack((q0, 0 * q0))\n",
    "plant.SetPositions(plant_context, q0)\n",
    "static_controller.GetInputPort(\"desired_state\").FixValue(\n",
    "    static_controller.GetMyMutableContextFromRoot(context), x0\n",
    ")\n",
    "print(context)\n",
    "plant.get_state_output_port(robot_model).Eval(plant_context)[:5]"
   ]
  },
  {
   "cell_type": "code",
   "execution_count": null,
   "id": "bf51a042-dbca-47ef-9125-0dc65f0af5da",
   "metadata": {},
   "outputs": [],
   "source": [
    "simulator = Simulator(diagram, context)\n",
    "simulator.set_target_realtime_rate(1.0)\n",
    "simulator.AdvanceTo(5.0 if running_as_notebook else 0.1);"
   ]
  },
  {
   "cell_type": "markdown",
   "id": "e5c2eb47-2bb5-4b38-a40c-93aba9600002",
   "metadata": {},
   "source": [
    "At this point, the robot should be stable. You can play around with `q0` below."
   ]
  },
  {
   "cell_type": "code",
   "execution_count": null,
   "id": "5f8c6eca-dbdc-42d2-b82e-8080cdad21f2",
   "metadata": {},
   "outputs": [],
   "source": [
    "# play around with q0\n",
    "context = diagram.CreateDefaultContext()\n",
    "plant_context = plant.GetMyMutableContextFromRoot(context)\n",
    "q0 = np.array([0 , -np.pi / 2, 0, 0, -np.pi / 2])\n",
    "x0 = np.hstack((q0, 0 * q0))\n",
    "plant.SetPositions(plant_context, np.zeros(5))\n",
    "static_controller.GetInputPort(\"desired_state\").FixValue(\n",
    "    static_controller.GetMyMutableContextFromRoot(context), x0\n",
    ")\n",
    "simulator = Simulator(diagram, context)\n",
    "simulator.set_target_realtime_rate(1.0)\n",
    "simulator.AdvanceTo(1.0)"
   ]
  },
  {
   "cell_type": "code",
   "execution_count": null,
   "id": "e69e64a6-93c7-4e6a-ac8f-06bea5a8ff3b",
   "metadata": {
    "scrolled": true
   },
   "outputs": [],
   "source": [
    "class PseudoInverseController(LeafSystem):\n",
    "    def __init__(self, plant):\n",
    "        LeafSystem.__init__(self)\n",
    "        self._plant = plant\n",
    "        self._plant_context = plant.CreateDefaultContext()\n",
    "        self._low_cost_robot = plant.GetModelInstanceByName(\"low-cost-arm\")\n",
    "        self._G = plant.GetBodyByName(\"gripper-static-motor_v2_1\").body_frame()\n",
    "        self._W = plant.world_frame()\n",
    "\n",
    "        self.DeclareVectorInputPort(\"low_cost_robot.position\", 5)\n",
    "        self.DeclareVectorOutputPort(\"low_cost_robot.velocity\", 5, self.CalcOutput)\n",
    "\n",
    "    def CalcOutput(self, context, output):\n",
    "        q = self.get_input_port().Eval(context)\n",
    "        self._plant.SetPositions(self._plant_context, self._low_cost_robot, q)\n",
    "        J_G = self._plant.CalcJacobianSpatialVelocity(\n",
    "            self._plant_context,\n",
    "            JacobianWrtVariable.kQDot,\n",
    "            self._G,\n",
    "            [0, 0, 0],\n",
    "            self._W,\n",
    "            self._W,\n",
    "        )\n",
    "        # J_G = J_G[:, 0:]  # Ignore gripper terms\n",
    "\n",
    "        V_G_desired = np.array(\n",
    "            [\n",
    "                0,  # rotation about x\n",
    "                0,  # rotation about y\n",
    "                0,  # rotation about z\n",
    "                0.3,  # x\n",
    "                0,  # y\n",
    "                0.3, # z\n",
    "            ]\n",
    "        ) \n",
    "        v = np.linalg.pinv(J_G).dot(V_G_desired)\n",
    "        output.SetFromVector(v)\n",
    "\n",
    "# Have separate classes for this so you can separate the integrator from the velocity/ position command.\n",
    "class ExtractPositionFromState(LeafSystem):\n",
    "    def __init__(self, ):\n",
    "        LeafSystem.__init__(self)\n",
    "        self.DeclareVectorInputPort(\"estimated_state\", 10)\n",
    "        self.DeclareVectorOutputPort(\"position\", 5, self.CalcOutput)\n",
    "\n",
    "    def CalcOutput(self, context, output):\n",
    "        full_state = self.get_input_port().Eval(context)\n",
    "        output.SetFromVector(full_state[:5])\n",
    "\n",
    "class ExtractStateFromPositionAndVelocity(LeafSystem):\n",
    "    def __init__(self, ):\n",
    "        LeafSystem.__init__(self)\n",
    "        self.DeclareVectorInputPort(\"low_cost_robot.desired_position\", 5)\n",
    "        self.DeclareVectorInputPort(\"low_cost_robot.desired_velocity\", 5)\n",
    "        self.DeclareVectorOutputPort(\"low_cost_robot.desired_state\", 10, self.CalcOutput)\n",
    "\n",
    "    def CalcOutput(self, context, output):\n",
    "        position = self.get_input_port(0).Eval(context)\n",
    "        velocity = self.get_input_port(1).Eval(context)\n",
    "        # print(position, velocity)\n",
    "        output.SetFromVector(np.hstack((position, velocity)))\n",
    "        \n",
    "\n",
    "def jacobian_controller_example():\n",
    "    # Control\n",
    "    builder = DiagramBuilder()\n",
    "    \n",
    "    # Adds both MultibodyPlant and the SceneGraph, and wires them together.\n",
    "    plant, scene_graph = AddMultibodyPlantSceneGraph(builder, time_step=1e-2)\n",
    "    # Note that we parse into both the plant and the scene_graph here.\n",
    "    robot_model = Parser(plant, scene_graph).AddModelsFromUrl(\n",
    "            \"file:///Users/raghav/Documents/projects/robot_arm/low_cost_robot/drake_setup/low-cost-arm.urdf\"\n",
    "    )[0]\n",
    "    plant.WeldFrames(plant.world_frame(), plant.GetFrameByName(\"base_link\"))\n",
    "    plant.Finalize()\n",
    "    \n",
    "    # Adds the MeshcatVisualizer and wires it to the SceneGraph.\n",
    "    visualizer = MeshcatVisualizer.AddToBuilder(builder, scene_graph, meshcat)\n",
    "\n",
    "    controller = builder.AddSystem(PseudoInverseController(plant))\n",
    "    integrator = builder.AddSystem(Integrator(5))\n",
    "    pos_from_state = builder.AddSystem(ExtractPositionFromState())\n",
    "    # state_from_pos_vel = builder.AddSystem(ExtractStateFromPositionAndVelocity())\n",
    "    \n",
    "\n",
    "\n",
    "    builder.Connect(controller.get_output_port(), integrator.get_input_port())\n",
    "    builder.Connect(integrator.get_output_port(), plant.get_actuation_input_port())\n",
    "    builder.Connect(plant.get_state_output_port(robot_model), pos_from_state.get_input_port())\n",
    "    builder.Connect(pos_from_state.get_output_port(), controller.get_input_port())\n",
    "    \n",
    "    diagram = builder.Build()\n",
    "    diagram.set_name(\"with iiwa controller\")\n",
    "\n",
    "    simulator = Simulator(diagram)\n",
    "    context = simulator.get_mutable_context()\n",
    "\n",
    "    \n",
    "    \n",
    "    RenderDiagram(diagram)\n",
    "    integrator.set_integral_value(\n",
    "        integrator.GetMyContextFromRoot(context),\n",
    "        plant.GetPositions(\n",
    "            plant.GetMyContextFromRoot(context),\n",
    "            plant.GetModelInstanceByName(\"low-cost-arm\"),\n",
    "        ),\n",
    "    )\n",
    "\n",
    "    \n",
    "\n",
    "    # meshcat.StartRecording()\n",
    "    simulator.AdvanceTo(100 if running_as_notebook else 0.1)\n",
    "    meshcat.PublishRecording()\n",
    "jacobian_controller_example()\n",
    "\n",
    "# Turns out this just doesn't make sense unless I can figure out how to give pose commands to the sim."
   ]
  },
  {
   "cell_type": "markdown",
   "id": "6c878298-41b9-46ae-a23e-4d6dc9b9389e",
   "metadata": {},
   "source": []
  }
 ],
 "metadata": {
  "kernelspec": {
   "display_name": "Python 3 (ipykernel)",
   "language": "python",
   "name": "python3"
  },
  "language_info": {
   "codemirror_mode": {
    "name": "ipython",
    "version": 3
   },
   "file_extension": ".py",
   "mimetype": "text/x-python",
   "name": "python",
   "nbconvert_exporter": "python",
   "pygments_lexer": "ipython3",
   "version": "3.12.3"
  }
 },
 "nbformat": 4,
 "nbformat_minor": 5
}
